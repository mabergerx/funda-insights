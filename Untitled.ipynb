{
 "cells": [
  {
   "cell_type": "code",
   "execution_count": 415,
   "id": "e522b0a8-affe-449b-9218-e7118a40ceff",
   "metadata": {},
   "outputs": [],
   "source": [
    "import requests\n",
    "from bs4 import BeautifulSoup\n",
    "from datetime import datetime"
   ]
  },
  {
   "cell_type": "code",
   "execution_count": 381,
   "id": "cf0b8914-585d-4dd1-bee4-ce7d9120fae5",
   "metadata": {},
   "outputs": [],
   "source": [
    "url = 'https://www.funda.nl/koop/weesp/huis-43453962-klein-dijkland-24/'\n",
    "\n",
    "\n",
    "# cookies = {\n",
    "#     'auth.sync.id': '94475980-3c35-4844-9661-56edb113b1e5',\n",
    "#     'f_auth': 'chunks%3A2',\n",
    "#     'f_auth-1': 'DSWX_Ia39BGOZVTnPasGHVR_UEoT4XaNsLPUl3sxE5M-Jced2C0FLgMOUcQXbD_HIhNEC-8rOtZxSLvaVKyivng2Ash5a84NENpPirWbwD7rqhuGG1HQuHk68u3LZ9xxvudp_RLIOyJr6Q7UkFe1U2s2kd6BsFjlyKEMQCOy5Q8kSuNBLy5n2pGI5Cu7TFczRPYWXDfJkWlMnf_H3WZqsCTle2z0uypMZnjx-YXI3A-W4VwSG94pooE1gx9aletGil10KRTvSkXqfExUgURwS1KI-tsOp6ciglQzJoMaT4QXTbvRggCO5j7nPzvaZVQ4pFUjJuz6eJA6DiQdOjIMLgPk-lFyN-GDvgT9xYiYL2XffPJQMUvHNXdfcuDX309dwvFsrS4pOM9Kb3sThMpnvRDQVm_VMbkfsRAi80vHfk4eWF-x5f4mrvYvwmb73G6VRJKp7h7BkuzwlKhRSHvKeE66Bbdpa9bIilWo2mlbJUvLl221BdxnlMRJ1TprMZkL5r1LMCltHehIwOlL4FhE_19sRkPFPkH61HWRvcn644HDzcYErJUpEm2vv8kEGfEIFYS7V3zvfDOVnngf067hbf5qDYWJCmb01xWzMieQHpw0HFKAj2kN44IC3pyB5vL95qzCs5IO9cl5KmagOL_O-t8cxNm7d9Uuof_ihBvSUatQTIyUsUT08IqBwu_WoAdQ7q-zl1BgM6519l2nFd0nRSvmnPiO0niRdy9sHDg0kerGUrLQG5xjHXLFuzyGD7pnmtJdeR_y1jJUoNKimKSGKGToJAsTExSq69jNLXJIchPPdp5Dq-lc4N5ETaItz-bxaTIl7QLCVJvPXVAvRikzcUP17lNBquDP-5y6ghZXcQj1XIcDaF7XmnYd-NWw_abBcpiKhA9KIvC-3uI0gvbg2j8qr6X78EkM6gqL0xM9dwocjguQd3oIlIPiaZRnPZC4dLsuHAhR-sXCPUEru_2iWrPi_IH5KK95zz_W6KNyT-w49rTqhV2sn6iZmYp7XWGxzj3jBTMDUUaPpX6coGlHx8eyf0pbcNOrPxu0FuWA9HqNAWgeH-tDugoBqEQdIQMW6o8HphjiAlIOPea8hdNpISM-lNA0fmy-aXA9AeZBXTrGQzxsjzckxyBe-NBN-z986kIpetzBpOXHsOTHTKXyfs5Qb84bRSHxXofjoIjd-dIcsSjqJWinGqzDbGMWicq2I4y3Q5xW3R9Rv0X1P86LnNZPaEjXiZR_Y0vjj6SDFTO4HQEEXiiccRyM_zFR0lX4yXEIw6qvDrbnTz6l_ShIE_Qe_JUspt6ZWRo2xchKHtM5BxnfBYRLmvhSdjBOS0jpjvv1WPVQdUegEHrMo08cfJlLfohhNZR3BfUvwkUMKRVqJQpIFoovzggdDZJFuRrKu0QiWEBnNuFk_tG86_ey9LjOvVyPUDeilnJNqiBXTJ3BDACqalbHYykeT2trYz22WK6fhT_jwxebhDTz0D4mUPQd54Yg2KWV3DaFOA5I7DAV3uide7S8WZkfWw52tfW9-8tDynNqyvZEfJj93yaoS4De_Bleh8GbI-TLukqbDC3ybQw4TE97eyuYkTzDLctRLDrgRAnOofHxEM2HPYzvCtQw-P1MQ0e5MCTcVYxT5nx-c6u_OGdGgek0OSV2c11wtw4LOoxLxIZEl837A52Rdw6vxsMRBgpSIXiyoPg8dbf9Zo54gelbAF2OtjIhSAdgeH92mUuu68tuuLQFOMMmFj37AMY0YKF7ivKIQJ2FAJWd2dEhkaJKMw31Ja9xPCulLaLug1zgsLmfPCYofKooAbnY01SpBKOXmQD3pQPBWo07WebE0Wbo-f9G2jPbAwn0N3CLew7WRrrC0XS6pG-3w2mNsWmdVFHnZRzV_XHRcNt0qe14bh124xLPDSLE-e73urXcpuiWuYVo7Y-ZAQJVKWJQv35dW72VsAXNJUllqX79pn0vPtIPOBwxghPI90Tt8PgFhgkcWqNMNN2h0uV5EQmEwoDpxHNHnPhTYjoe1Ox3f9mwPO3H6dUWn0Syjvrm',\n",
    "#     'f_auth-2': 'oFJNgTY6l4tmBYWnDsqs60SvwK4wmJRPy8JAYPps6JGzTARwRhmn233HH02lJ6hZEqDmICfacZHn0ci0f6ZJWNXbs-9hfD7P8VAcvIEIzTzbBlh25nP2iPBzBZxKiYMneLUYLdOwrHENCMszFc9EJkON3S_79OFLOTKt1ZU4PGvr7Z8qz3F3FVPu1sYiUK_KgH9xaHBeRT6fO9Oqx2pXUqUxNCEQG01yjpffMZjwyA4Y6SGk7k7dmBHW4gNVNxFC-XwiBpQ23vxvIVp8TdBv1RbcoYXMotD9DrSLNraAzPwUXtHh6wc1rs_mZ3lvIv23xG4i4aTfqYDaAQHXVLSz36yJug16DdHY_sj-RRE-lCbXslRcqH0iBnFkBoU5OvDdQajFEz9rXM_2nR0pcIJV-Z7DYJtD4D-lttta7RayJA9xzGbJLVyaSpUX0w3dp_OiRgFuAHHGMlmGF5-2oBWLzYrPLXaT__wpwJbOTt-962ODpKTJFc5YXKb-U4Hgqwv6hMXRnvZBMKDrEX1zNBF_G3FdP57DpDiOMSyiElMzUC-bPa2rOQK1dfF1204_2SfEPivnB65HXTUEfuMzS7kcDVedFr4tD90K7pshSaWLQRri6sTjbzA3N1VQbH0ZXimoA4fsp9xzYrT7rd2eyGEBaLqoxwgFuJhOqliyyslz_pXiMzTvoallRlonPUBYVx8xsq2bM6Bhn4iua2M-9_2HXJ0T3VXchWer-AI78BwUgFFB13vc'}\n",
    "\n",
    "\n",
    "headers = {\n",
    "    'User-Agent': 'Mozilla/5.0 (Macintosh; Intel Mac OS X 10_15_7) AppleWebKit/537.36 (KHTML, like Gecko) Chrome/120.0.0.0 Safari/537.36',\n",
    "}\n",
    "\n"
   ]
  },
  {
   "cell_type": "code",
   "execution_count": 382,
   "id": "a3c47056-56ea-4064-b39d-d88b9d1a9bac",
   "metadata": {},
   "outputs": [],
   "source": [
    "response = requests.get(url, headers=headers)"
   ]
  },
  {
   "cell_type": "code",
   "execution_count": 383,
   "id": "2c4f7e75-cbaf-4016-8a3b-db4397449f38",
   "metadata": {},
   "outputs": [],
   "source": [
    "soup = BeautifulSoup(response.text, \"html\")"
   ]
  },
  {
   "cell_type": "code",
   "execution_count": 299,
   "id": "5adfc529-7df1-4cd7-a594-857a4025cf80",
   "metadata": {},
   "outputs": [],
   "source": [
    "object_statistics = soup.select(\".object-statistics\")\n",
    "object_features = soup.select(\".object-kenmerken\")"
   ]
  },
  {
   "cell_type": "code",
   "execution_count": 300,
   "id": "c2e87ae1-7fd8-4013-86bd-0ac06557c632",
   "metadata": {},
   "outputs": [
    {
     "data": {
      "text/plain": [
       "[<div class=\"object-statistics\" data-vue-container=\"\">\n",
       " <app-object-insights-card global-id=\"6992154\" is-logged-in=\"is-logged-in\" language=\"nl\" published-date=\"29-12-2023\"></app-object-insights-card>\n",
       " </div>]"
      ]
     },
     "execution_count": 300,
     "metadata": {},
     "output_type": "execute_result"
    }
   ],
   "source": [
    "object_statistics"
   ]
  },
  {
   "cell_type": "code",
   "execution_count": 301,
   "id": "02369bce-8250-43bf-9039-629d1c96b1ac",
   "metadata": {
    "scrolled": true
   },
   "outputs": [
    {
     "data": {
      "text/plain": [
       "[<section aria-expanded=\"true\" class=\"object-kenmerken is-expanded\" data-object-kenmerken=\"\">\n",
       " <h2 class=\"object-kenmerken-title\">Kenmerken</h2>\n",
       " <div class=\"object-kenmerken-body\" data-object-kenmerken-body=\"\" data-test-object-kenmerken-body=\"\">\n",
       " <h3 class=\"object-kenmerken-list-header\">Overdracht</h3>\n",
       " <dl class=\"object-kenmerken-list\">\n",
       " <dt>Vraagprijs</dt>\n",
       " <dd class=\"fd-flex--bp-m fd-flex-wrap fd-align-items-center\">\n",
       " <span class=\"fd-m-right-xs\">€ 229.000 kosten koper</span>\n",
       " <span class=\"textlink-banner\">\n",
       " </span>\n",
       " </dd>\n",
       " <dt>\n",
       "     Vraagprijs per m²\n",
       " </dt>\n",
       " <dd class=\"object-kenmerken-list__asking-price fd-flex fd-align-items-center\" data-vue-container=\"\">€ 2.899\n",
       "     <div class=\"fd-tooltip fd-tooltip--bottom fd-display-block\" data-tooltip-ui=\"\">\n",
       " <div class=\"fd-tooltip__balloon fd-p fd-bg-blue-5 fd-color-dark-1\" role=\"tooltip\">De vraagprijs per m² wordt berekend door de vraagprijs van de woning (€ 229.000) te delen door de gebruiksoppervlakte wonen (79 m²). Hierbij wordt geen rekening gehouden met de perceeloppervlakte en eventuele bijgebouwen. <a href=\"https://help.funda.nl/hc/nl/articles/360019334720\">Meer informatie</a></div>\n",
       " <a class=\"relative fd-m-left-2xs fd-display-block\" data-tooltip-ui-handle=\"\">\n",
       " <icon-info class=\"fd-display-block\"></icon-info>\n",
       " <span class=\"fd-tooltip__caret fd-color-blue-5\"></span>\n",
       " </a>\n",
       " </div>\n",
       " </dd><dt>Aangeboden sinds</dt>\n",
       " <dd>\n",
       " 2 weken</dd>\n",
       " <dt>Status</dt>\n",
       " <dd class=\"fd-flex--bp-m fd-flex-wrap fd-align-items-center\">\n",
       " <span class=\"\">Beschikbaar</span>\n",
       " </dd>\n",
       " <dt>Aanvaarding</dt>\n",
       " <dd class=\"fd-flex--bp-m fd-flex-wrap fd-align-items-center\">\n",
       " <span class=\"\">In overleg</span>\n",
       " </dd>\n",
       " <dt>Bijdrage VvE</dt>\n",
       " <dd class=\"fd-flex--bp-m fd-flex-wrap fd-align-items-center\">\n",
       " <span class=\"\">€ 285,00 per maand</span>\n",
       " </dd>\n",
       " </dl>\n",
       " <div class=\"category-banner\" data-test-category-banner=\"\">\n",
       " </div>\n",
       " <h3 class=\"object-kenmerken-list-header\">Bouw</h3>\n",
       " <dl class=\"object-kenmerken-list\">\n",
       " <dt>Soort appartement</dt>\n",
       " <dd class=\"fd-flex--bp-m fd-flex-wrap fd-align-items-center\">\n",
       " <span class=\"\">Galerijflat (appartement)</span>\n",
       " </dd>\n",
       " <dt>Soort bouw</dt>\n",
       " <dd class=\"fd-flex--bp-m fd-flex-wrap fd-align-items-center\">\n",
       " <span class=\"\">Bestaande bouw</span>\n",
       " </dd>\n",
       " <dt>Bouwjaar</dt>\n",
       " <dd class=\"fd-flex--bp-m fd-flex-wrap fd-align-items-center\">\n",
       " <span class=\"fd-m-right-xs\">1961</span>\n",
       " <span class=\"textlink-banner\">\n",
       " </span>\n",
       " </dd>\n",
       " <dt>Soort dak</dt>\n",
       " <dd class=\"fd-flex--bp-m fd-flex-wrap fd-align-items-center\">\n",
       " <span class=\"\">Plat dak bedekt met bitumineuze dakbedekking</span>\n",
       " </dd>\n",
       " </dl>\n",
       " <div class=\"category-banner\" data-test-category-banner=\"\">\n",
       " </div>\n",
       " <h3 class=\"object-kenmerken-list-header\" data-interaction=\"Object.Kenmerken\" data-scroll-watch=\"\">Oppervlakten en inhoud</h3>\n",
       " <dl class=\"object-kenmerken-list\">\n",
       " <dt class=\"object-kenmerken-group-header object-kenmerken-group-header-half\">\n",
       " <div class=\"\">Gebruiksoppervlakten</div>\n",
       " </dt>\n",
       " <dd>\n",
       " </dd>\n",
       " <dd class=\"object-kenmerken-group-list\"><dl><dt>Wonen</dt>\n",
       " <dd class=\"fd-flex--bp-m fd-flex-wrap fd-align-items-center\">\n",
       " <span class=\"\">79 m²</span>\n",
       " </dd>\n",
       " <dt>Gebouwgebonden buitenruimte</dt>\n",
       " <dd class=\"fd-flex--bp-m fd-flex-wrap fd-align-items-center\">\n",
       " <span class=\"\">5 m²</span>\n",
       " </dd>\n",
       " <dt>Externe bergruimte</dt>\n",
       " <dd class=\"fd-flex--bp-m fd-flex-wrap fd-align-items-center\">\n",
       " <span class=\"\">4 m²</span>\n",
       " </dd>\n",
       " </dl></dd><dt>Inhoud</dt>\n",
       " <dd class=\"fd-flex--bp-m fd-flex-wrap fd-align-items-center\">\n",
       " <span class=\"\">254 m³</span>\n",
       " </dd>\n",
       " </dl>\n",
       " <div class=\"category-banner\" data-test-category-banner=\"\">\n",
       " </div>\n",
       " <h3 class=\"object-kenmerken-list-header\">Indeling</h3>\n",
       " <dl class=\"object-kenmerken-list\">\n",
       " <dt>Aantal kamers</dt>\n",
       " <dd class=\"fd-flex--bp-m fd-flex-wrap fd-align-items-center\">\n",
       " <span class=\"\">4 kamers (2 slaapkamers)</span>\n",
       " </dd>\n",
       " <dt>Aantal badkamers</dt>\n",
       " <dd class=\"fd-flex--bp-m fd-flex-wrap fd-align-items-center\">\n",
       " <span class=\"\">1 badkamer</span>\n",
       " </dd>\n",
       " <dt>Badkamervoorzieningen</dt>\n",
       " <dd class=\"fd-flex--bp-m fd-flex-wrap fd-align-items-center\">\n",
       " <span class=\"\">Douche</span>\n",
       " </dd>\n",
       " <dt>Aantal woonlagen</dt>\n",
       " <dd class=\"fd-flex--bp-m fd-flex-wrap fd-align-items-center\">\n",
       " <span class=\"\">1 woonlaag</span>\n",
       " </dd>\n",
       " <dt>Gelegen op</dt>\n",
       " <dd class=\"fd-flex--bp-m fd-flex-wrap fd-align-items-center\">\n",
       " <span class=\"\">6e woonlaag</span>\n",
       " </dd>\n",
       " <dt>Voorzieningen</dt>\n",
       " <dd class=\"fd-flex--bp-m fd-flex-wrap fd-align-items-center\">\n",
       " <span class=\"\">Lift</span>\n",
       " </dd>\n",
       " </dl>\n",
       " <div class=\"category-banner\" data-test-category-banner=\"\">\n",
       " </div>\n",
       " <h3 class=\"object-kenmerken-list-header\">Energie</h3>\n",
       " <dl class=\"object-kenmerken-list\">\n",
       " <dt>Energielabel</dt>\n",
       " <dd>\n",
       " <span class=\"energielabel energielabel-e\" title=\"Energielabel E\">E\n",
       "         </span>\n",
       " <a href=\"/meer-weten/energielabel/\" title=\"energielabel\">Wat betekent dit?</a>\n",
       " </dd>\n",
       " <dt>Isolatie</dt>\n",
       " <dd class=\"fd-flex--bp-m fd-flex-wrap fd-align-items-center\">\n",
       " <span class=\"\">Dubbel glas</span>\n",
       " </dd>\n",
       " <dt>Verwarming</dt>\n",
       " <dd class=\"fd-flex--bp-m fd-flex-wrap fd-align-items-center\">\n",
       " <span class=\"\">Blokverwarming</span>\n",
       " </dd>\n",
       " <dt>Warm water</dt>\n",
       " <dd class=\"fd-flex--bp-m fd-flex-wrap fd-align-items-center\">\n",
       " <span class=\"\">Elektrische boiler (huur)</span>\n",
       " </dd>\n",
       " </dl>\n",
       " <div class=\"category-banner\" data-test-category-banner=\"\">\n",
       " </div>\n",
       " <h3 class=\"object-kenmerken-list-header\">Buitenruimte</h3>\n",
       " <dl class=\"object-kenmerken-list\">\n",
       " <dt>Ligging</dt>\n",
       " <dd class=\"fd-flex--bp-m fd-flex-wrap fd-align-items-center\">\n",
       " <span class=\"\">In centrum</span>\n",
       " </dd>\n",
       " <dt>Balkon/dakterras</dt>\n",
       " <dd class=\"fd-flex--bp-m fd-flex-wrap fd-align-items-center\">\n",
       " <span class=\"\">Balkon aanwezig</span>\n",
       " </dd>\n",
       " </dl>\n",
       " <div class=\"category-banner\" data-test-category-banner=\"\">\n",
       " </div>\n",
       " <h3 class=\"object-kenmerken-list-header\">Bergruimte</h3>\n",
       " <dl class=\"object-kenmerken-list\">\n",
       " <dt>Schuur/berging</dt>\n",
       " <dd class=\"fd-flex--bp-m fd-flex-wrap fd-align-items-center\">\n",
       " <span class=\"\">Box</span>\n",
       " </dd>\n",
       " <dt>Voorzieningen</dt>\n",
       " <dd class=\"fd-flex--bp-m fd-flex-wrap fd-align-items-center\">\n",
       " <span class=\"\">Elektra</span>\n",
       " </dd>\n",
       " </dl>\n",
       " <h3 class=\"object-kenmerken-list-header\">Parkeergelegenheid</h3>\n",
       " <dl class=\"object-kenmerken-list\">\n",
       " <dt>Soort parkeergelegenheid</dt>\n",
       " <dd class=\"fd-flex--bp-m fd-flex-wrap fd-align-items-center\">\n",
       " <span class=\"\">Betaald parkeren en parkeervergunningen</span>\n",
       " </dd>\n",
       " </dl>\n",
       " <h3 class=\"object-kenmerken-list-header\">VvE checklist</h3>\n",
       " <dl class=\"object-kenmerken-list\">\n",
       " <dt>Inschrijving KvK</dt>\n",
       " <dd class=\"fd-flex--bp-m fd-flex-wrap fd-align-items-center\">\n",
       " <span class=\"\">Nee</span>\n",
       " </dd>\n",
       " <dt>Jaarlijkse vergadering</dt>\n",
       " <dd class=\"fd-flex--bp-m fd-flex-wrap fd-align-items-center\">\n",
       " <span class=\"\">Ja</span>\n",
       " </dd>\n",
       " <dt>Periodieke bijdrage</dt>\n",
       " <dd class=\"fd-flex--bp-m fd-flex-wrap fd-align-items-center\">\n",
       " <span class=\"\">Ja (€ 285,00 per maand)</span>\n",
       " </dd>\n",
       " <dt>Reservefonds aanwezig</dt>\n",
       " <dd class=\"fd-flex--bp-m fd-flex-wrap fd-align-items-center\">\n",
       " <span class=\"\">Ja</span>\n",
       " </dd>\n",
       " <dt>Onderhoudsplan</dt>\n",
       " <dd class=\"fd-flex--bp-m fd-flex-wrap fd-align-items-center\">\n",
       " <span class=\"\">Nee</span>\n",
       " </dd>\n",
       " <dt>Opstalverzekering</dt>\n",
       " <dd class=\"fd-flex--bp-m fd-flex-wrap fd-align-items-center\">\n",
       " <span class=\"\">Ja</span>\n",
       " </dd>\n",
       " </dl>\n",
       " </div>\n",
       " <button class=\"object-kenmerken-open-button\" data-object-kenmerken-handle=\"\">\n",
       " <span class=\"icon-plus-blue\"></span>Bekijk alle kenmerken\n",
       "             </button>\n",
       " </section>]"
      ]
     },
     "execution_count": 301,
     "metadata": {},
     "output_type": "execute_result"
    }
   ],
   "source": [
    "object_features"
   ]
  },
  {
   "cell_type": "code",
   "execution_count": 356,
   "id": "78ed5222-484e-4b84-b345-d2001fc0ea93",
   "metadata": {},
   "outputs": [
    {
     "data": {
      "text/plain": [
       "[<dd class=\"fd-flex--bp-m fd-flex-wrap fd-align-items-center\">\n",
       " <span class=\"fd-m-right-xs\">€ 229.000 kosten koper</span>\n",
       " <span class=\"textlink-banner\">\n",
       " </span>\n",
       " </dd>,\n",
       " <dd class=\"fd-flex--bp-m fd-flex-wrap fd-align-items-center\">\n",
       " <span class=\"\">Galerijflat (appartement)</span>\n",
       " </dd>,\n",
       " <dd>\n",
       " </dd>,\n",
       " <dd class=\"fd-flex--bp-m fd-flex-wrap fd-align-items-center\">\n",
       " <span class=\"\">79 m²</span>\n",
       " </dd>,\n",
       " <dd class=\"fd-flex--bp-m fd-flex-wrap fd-align-items-center\">\n",
       " <span class=\"\">4 kamers (2 slaapkamers)</span>\n",
       " </dd>,\n",
       " <dd>\n",
       " <span class=\"energielabel energielabel-e\" title=\"Energielabel E\">E\n",
       "         </span>\n",
       " <a href=\"/meer-weten/energielabel/\" title=\"energielabel\">Wat betekent dit?</a>\n",
       " </dd>,\n",
       " <dd class=\"fd-flex--bp-m fd-flex-wrap fd-align-items-center\">\n",
       " <span class=\"\">In centrum</span>\n",
       " </dd>,\n",
       " <dd class=\"fd-flex--bp-m fd-flex-wrap fd-align-items-center\">\n",
       " <span class=\"\">Box</span>\n",
       " </dd>,\n",
       " <dd class=\"fd-flex--bp-m fd-flex-wrap fd-align-items-center\">\n",
       " <span class=\"\">Betaald parkeren en parkeervergunningen</span>\n",
       " </dd>,\n",
       " <dd class=\"fd-flex--bp-m fd-flex-wrap fd-align-items-center\">\n",
       " <span class=\"\">Nee</span>\n",
       " </dd>]"
      ]
     },
     "execution_count": 356,
     "metadata": {},
     "output_type": "execute_result"
    }
   ],
   "source": [
    "soup.select(\"dd:nth-child(2)\")"
   ]
  },
  {
   "cell_type": "code",
   "execution_count": 409,
   "id": "60bd2c84-d866-4cd6-9996-57be618cf237",
   "metadata": {},
   "outputs": [],
   "source": [
    "def retrieve_feature_value(soup, feature_name):\n",
    "    try:\n",
    "        # Find the <dt> element with the text 'Ligging tuin'\n",
    "        dt_element = soup.find('dt', string=feature_name)\n",
    "        \n",
    "        # Find the next <dd> element which is the sibling of <dt>\n",
    "        dd_element = dt_element.find_next_sibling('dd')\n",
    "        \n",
    "        # Extract and print the text from the <dd> element\n",
    "        feature_text = dd_element.get_text(strip=True)\n",
    "        \n",
    "    except AttributeError as e:\n",
    "        feature_text = \"n.v.t.\"\n",
    "\n",
    "    return feature_text"
   ]
  },
  {
   "cell_type": "code",
   "execution_count": 377,
   "id": "78c3c954-2076-48ea-8e0a-30bdb7438f2d",
   "metadata": {},
   "outputs": [
    {
     "name": "stdout",
     "output_type": "stream",
     "text": [
      "Schuur/berging\n"
     ]
    },
    {
     "data": {
      "text/plain": [
       "{'Schuur/berging': 'Box'}"
      ]
     },
     "execution_count": 377,
     "metadata": {},
     "output_type": "execute_result"
    }
   ],
   "source": [
    "retrieve_feature_value(\"Schuur/berging\")"
   ]
  },
  {
   "cell_type": "code",
   "execution_count": 360,
   "id": "7d105d53-b787-4c90-8747-557206dd4f2f",
   "metadata": {},
   "outputs": [],
   "source": [
    "features_list_huis = ['Vraagprijs',\n",
    " 'Status',\n",
    " 'Aanvaarding',\n",
    " 'Soort woonhuis',\n",
    " 'Soort bouw',\n",
    " 'Bouwjaar',\n",
    " 'Specifiek',\n",
    " 'Soort dak',\n",
    " 'Wonen',\n",
    " 'Gebouwgebonden buitenruimte',\n",
    " 'Externe bergruimte',\n",
    " 'Perceel',\n",
    " 'Inhoud',\n",
    " 'Aantal kamers',\n",
    " 'Aantal badkamers',\n",
    " 'Badkamervoorzieningen',\n",
    " 'Aantal woonlagen',\n",
    " 'Voorzieningen',\n",
    " 'Energielabel',\n",
    " 'Isolatie',\n",
    " 'Verwarming',\n",
    " 'Warm water',\n",
    " 'Cv-ketel',\n",
    " 'Oppervlakte',\n",
    " 'Eigendomssituatie',\n",
    " 'Ligging',\n",
    " 'Tuin',\n",
    " 'Achtertuin',\n",
    " 'Ligging tuin',\n",
    " 'Schuur/berging',\n",
    " 'Voorzieningen',\n",
    " 'Soort parkeergelegenheid']"
   ]
  },
  {
   "cell_type": "code",
   "execution_count": 361,
   "id": "fd5130f5-6e2b-4b92-927b-81ccb5045698",
   "metadata": {},
   "outputs": [],
   "source": [
    "features_list_apt = ['Vraagprijs',\n",
    " 'Status',\n",
    " 'Aanvaarding',\n",
    " 'Bijdrage VvE',\n",
    " 'Soort appartement',\n",
    " 'Soort bouw',\n",
    " 'Bouwjaar',\n",
    " 'Soort dak',\n",
    " 'Wonen',\n",
    " 'Gebouwgebonden buitenruimte',\n",
    " 'Externe bergruimte',\n",
    " 'Inhoud',\n",
    " 'Aantal kamers',\n",
    " 'Aantal badkamers',\n",
    " 'Badkamervoorzieningen',\n",
    " 'Aantal woonlagen',\n",
    " 'Gelegen op',\n",
    " 'Voorzieningen',\n",
    " 'Energielabel',\n",
    " 'Isolatie',\n",
    " 'Verwarming',\n",
    " 'Warm water',\n",
    " 'Ligging',\n",
    " 'Balkon/dakterras',\n",
    " 'Schuur/berging',\n",
    " 'Voorzieningen',\n",
    " 'Soort parkeergelegenheid',\n",
    " 'Inschrijving KvK',\n",
    " 'Jaarlijkse vergadering',\n",
    " 'Periodieke bijdrage',\n",
    " 'Reservefonds aanwezig',\n",
    " 'Onderhoudsplan',\n",
    " 'Opstalverzekering']"
   ]
  },
  {
   "cell_type": "code",
   "execution_count": 362,
   "id": "5ffe0ffe-a4ba-4014-b081-8428b78199de",
   "metadata": {},
   "outputs": [],
   "source": [
    "feature_union = set(features_list_huis).union(set(features_list_apt))"
   ]
  },
  {
   "cell_type": "code",
   "execution_count": 363,
   "id": "0f1cd001-d160-4ee8-94c3-e56865d38777",
   "metadata": {},
   "outputs": [
    {
     "data": {
      "text/plain": [
       "{'Aantal badkamers',\n",
       " 'Aantal kamers',\n",
       " 'Aantal woonlagen',\n",
       " 'Aanvaarding',\n",
       " 'Achtertuin',\n",
       " 'Badkamervoorzieningen',\n",
       " 'Balkon/dakterras',\n",
       " 'Bijdrage VvE',\n",
       " 'Bouwjaar',\n",
       " 'Cv-ketel',\n",
       " 'Eigendomssituatie',\n",
       " 'Energielabel',\n",
       " 'Externe bergruimte',\n",
       " 'Gebouwgebonden buitenruimte',\n",
       " 'Gelegen op',\n",
       " 'Inhoud',\n",
       " 'Inschrijving KvK',\n",
       " 'Isolatie',\n",
       " 'Jaarlijkse vergadering',\n",
       " 'Ligging',\n",
       " 'Ligging tuin',\n",
       " 'Onderhoudsplan',\n",
       " 'Oppervlakte',\n",
       " 'Opstalverzekering',\n",
       " 'Perceel',\n",
       " 'Periodieke bijdrage',\n",
       " 'Reservefonds aanwezig',\n",
       " 'Schuur/berging',\n",
       " 'Soort appartement',\n",
       " 'Soort bouw',\n",
       " 'Soort dak',\n",
       " 'Soort parkeergelegenheid',\n",
       " 'Soort woonhuis',\n",
       " 'Specifiek',\n",
       " 'Status',\n",
       " 'Tuin',\n",
       " 'Verwarming',\n",
       " 'Voorzieningen',\n",
       " 'Vraagprijs',\n",
       " 'Warm water',\n",
       " 'Wonen'}"
      ]
     },
     "execution_count": 363,
     "metadata": {},
     "output_type": "execute_result"
    }
   ],
   "source": [
    "feature_union"
   ]
  },
  {
   "cell_type": "code",
   "execution_count": 385,
   "id": "fdd230d3-9384-4301-8ece-df97154649cd",
   "metadata": {},
   "outputs": [
    {
     "name": "stdout",
     "output_type": "stream",
     "text": [
      "{'Schuur/berging': 'Aangebouwde stenen berging'}\n",
      "{'Specifiek': 'Gedeeltelijk gestoffeerd'}\n",
      "{'Vraagprijs': '€ 525.000 kosten koper'}\n",
      "{'Perceel': '144 m²'}\n",
      "{'Aantal badkamers': '1 badkamer en 1 apart toilet'}\n",
      "{'Externe bergruimte': '6 m²'}\n",
      "{'Jaarlijkse vergadering': 'n.v.t.'}\n",
      "{'Status': 'Beschikbaar'}\n",
      "{'Balkon/dakterras': 'n.v.t.'}\n",
      "{'Soort woonhuis': 'Eengezinswoning, tussenwoning'}\n",
      "{'Soort bouw': 'Bestaande bouw'}\n",
      "{'Soort dak': 'Samengesteld dak bedekt met bitumineuze dakbedekking en pannen'}\n",
      "{'Isolatie': 'Dakisolatie, dubbel glas, grotendeels dubbelglas, HR-glas, muurisolatie en vloerisolatie'}\n",
      "{'Inhoud': '342 m³'}\n",
      "{'Badkamervoorzieningen': 'Douche en toilet'}\n",
      "{'Aanvaarding': 'In overleg'}\n",
      "{'Energielabel': 'AWat betekent dit?'}\n",
      "{'Verwarming': 'Cv-ketel'}\n",
      "{'Gebouwgebonden buitenruimte': '1 m²'}\n",
      "{'Oppervlakte': '144 m²'}\n",
      "{'Aantal kamers': '5 kamers (4 slaapkamers)'}\n",
      "{'Gelegen op': 'n.v.t.'}\n",
      "{'Inschrijving KvK': 'n.v.t.'}\n",
      "{'Onderhoudsplan': 'n.v.t.'}\n",
      "{'Wonen': '100 m²'}\n",
      "{'Bijdrage VvE': 'n.v.t.'}\n",
      "{'Soort appartement': 'n.v.t.'}\n",
      "{'Opstalverzekering': 'n.v.t.'}\n",
      "{'Periodieke bijdrage': 'n.v.t.'}\n",
      "{'Reservefonds aanwezig': 'n.v.t.'}\n",
      "{'Tuin': 'Achtertuin en voortuin'}\n",
      "{'Aantal woonlagen': '3 woonlagen'}\n",
      "{'Voorzieningen': 'Buitenzonwering, mechanische ventilatie, rookkanaal, schuifpui, TV kabel en zonnepanelen'}\n",
      "{'Warm water': 'Cv-ketel'}\n",
      "{'Achtertuin': '66 m² (12,87 meter diep en 5,12 meter breed)'}\n",
      "{'Eigendomssituatie': 'Volle eigendom'}\n",
      "{'Cv-ketel': 'Intergas HRE A 28/24 (gas gestookt combiketel uit 2023, eigendom)'}\n",
      "{'Soort parkeergelegenheid': 'Openbaar parkeren'}\n",
      "{'Ligging': 'In woonwijk en vrij uitzicht'}\n",
      "{'Bouwjaar': '1985'}\n",
      "{'Ligging tuin': 'Gelegen op het westen bereikbaar via achterom'}\n"
     ]
    }
   ],
   "source": [
    "for feat in feature_union:\n",
    "    print(retrieve_feature_value(soup, feat))"
   ]
  },
  {
   "cell_type": "code",
   "execution_count": 426,
   "id": "9071b9e5-4c11-4a7c-b91f-275fc71d3d09",
   "metadata": {},
   "outputs": [],
   "source": [
    "def get_house_specifics(house_url, features_set=feature_union):\n",
    "\n",
    "    response = requests.get(house_url, headers=headers)\n",
    "    soup = BeautifulSoup(response.text, \"html\")\n",
    "\n",
    "    house_features = {item: retrieve_feature_value(soup, item) for item in feature_union}\n",
    "\n",
    "    popularity_stats = get_house_popularity_stats(soup)\n",
    "\n",
    "    return dict(**house_features,**popularity_stats)\n",
    "\n",
    "        "
   ]
  },
  {
   "cell_type": "code",
   "execution_count": 429,
   "id": "dece3ae5-d4c2-4d6c-b2b0-d6f24c927720",
   "metadata": {},
   "outputs": [
    {
     "data": {
      "text/plain": [
       "{'Schuur/berging': 'Vrijstaande houten berging',\n",
       " 'Specifiek': 'Gedeeltelijk gestoffeerd',\n",
       " 'Vraagprijs': '€ 475.000 kosten koper',\n",
       " 'Perceel': '141 m²',\n",
       " 'Aantal badkamers': '1 badkamer en 1 apart toilet',\n",
       " 'Externe bergruimte': '8 m²',\n",
       " 'Jaarlijkse vergadering': 'n.v.t.',\n",
       " 'Status': 'Beschikbaar',\n",
       " 'Balkon/dakterras': 'Balkon aanwezig',\n",
       " 'Soort woonhuis': 'Eengezinswoning, tussenwoning',\n",
       " 'Soort bouw': 'Bestaande bouw',\n",
       " 'Soort dak': 'Zadeldak bedekt met pannen',\n",
       " 'Isolatie': 'Dakisolatie, gedeeltelijk dubbel glas, muurisolatie en vloerisolatie',\n",
       " 'Inhoud': '388 m³',\n",
       " 'Badkamervoorzieningen': 'Ligbad en toilet',\n",
       " 'Aanvaarding': 'In overleg',\n",
       " 'Energielabel': 'BWat betekent dit?',\n",
       " 'Verwarming': 'Cv-ketel',\n",
       " 'Gebouwgebonden buitenruimte': '3 m²',\n",
       " 'Oppervlakte': '141 m²',\n",
       " 'Aantal kamers': '5 kamers (4 slaapkamers)',\n",
       " 'Gelegen op': 'n.v.t.',\n",
       " 'Inschrijving KvK': 'n.v.t.',\n",
       " 'Onderhoudsplan': 'n.v.t.',\n",
       " 'Wonen': '108 m²',\n",
       " 'Bijdrage VvE': 'n.v.t.',\n",
       " 'Soort appartement': 'n.v.t.',\n",
       " 'Opstalverzekering': 'n.v.t.',\n",
       " 'Periodieke bijdrage': 'n.v.t.',\n",
       " 'Reservefonds aanwezig': 'n.v.t.',\n",
       " 'Tuin': 'Achtertuin en voortuin',\n",
       " 'Aantal woonlagen': '3 woonlagen',\n",
       " 'Voorzieningen': 'Buitenzonwering, glasvezelkabel, natuurlijke ventilatie, TV kabel en zonnepanelen',\n",
       " 'Warm water': 'Cv-ketel',\n",
       " 'Achtertuin': '63 m² (12,5 meter diep en 5 meter breed)',\n",
       " 'Eigendomssituatie': 'Volle eigendom',\n",
       " 'Cv-ketel': 'Atag (gas gestookt combiketel uit 2010, eigendom)',\n",
       " 'Soort parkeergelegenheid': 'Openbaar parkeren',\n",
       " 'Ligging': 'Aan rustige weg, aan water, in woonwijk en vrij uitzicht',\n",
       " 'Bouwjaar': '1937',\n",
       " 'Ligging tuin': 'Gelegen op het westen bereikbaar via achterom',\n",
       " 'views': 1337,\n",
       " 'saves': 40,\n",
       " 'published_at': '18-1-2024'}"
      ]
     },
     "execution_count": 429,
     "metadata": {},
     "output_type": "execute_result"
    }
   ],
   "source": [
    "get_house_specifics('https://www.funda.nl/koop/gouda/huis-43453846-burgvlietkade-20/')"
   ]
  },
  {
   "cell_type": "code",
   "execution_count": 321,
   "id": "c77d75f2-9f5c-443d-ab7a-2d57d9bf7680",
   "metadata": {},
   "outputs": [],
   "source": [
    "# all_features = [item.get_text() for item in soup.find_all('dt') if \"\\n\" not in item]\n",
    "\n",
    "# all_features"
   ]
  },
  {
   "cell_type": "code",
   "execution_count": 423,
   "id": "6ac45e53-0be9-4452-9007-e114f2e105a6",
   "metadata": {},
   "outputs": [],
   "source": [
    "def get_house_popularity_stats(soup):\n",
    "    object_statistics_html = soup.select(\".object-statistics\")[0]\n",
    "    house_global_id = object_statistics_html.find('app-object-insights-card')[\"global-id\"]\n",
    "    published_date = object_statistics_html.find('app-object-insights-card')[\"published-date\"]\n",
    "\n",
    "    try:\n",
    "        insights = requests.get(f\"https://marketinsights.funda.io/v1/objectinsights/{house_global_id}\").json()\n",
    "        views = insights[\"nrOfViews\"]\n",
    "        saves = insights[\"nrOfSaves\"]\n",
    "        return {\"views\": views, \"saves\": saves, \"published_at\": published_date}\n",
    "    except:\n",
    "        return {\"published_at\": datetime.today().strftime(\"%d-%m-%Y\"), 'views': \"n.v.t.\", 'saves': \"n.v.t.\"}\n",
    "    "
   ]
  },
  {
   "cell_type": "code",
   "execution_count": 424,
   "id": "e89cb971-73fd-4c40-98dd-47586580c74b",
   "metadata": {},
   "outputs": [
    {
     "data": {
      "text/plain": [
       "{'published_at': '19-01-2024', 'views': 'n.v.t.', 'saves': 'n.v.t.'}"
      ]
     },
     "execution_count": 424,
     "metadata": {},
     "output_type": "execute_result"
    }
   ],
   "source": [
    "get_house_popularity_stats(soup)"
   ]
  },
  {
   "cell_type": "code",
   "execution_count": 353,
   "id": "2a67baa4-1822-42ae-991d-2717a948b94e",
   "metadata": {},
   "outputs": [],
   "source": [
    "def get_funda_avg_asking_price(location):\n",
    "    return requests.get(f\"https://marketinsights.funda.io/v1/LocalInsights/preview/{location.lower()}\").json()['marketInsightsMetrics']['averageAskingPrice']['value']\n",
    "\n"
   ]
  },
  {
   "cell_type": "code",
   "execution_count": 355,
   "id": "20d087c7-1bd7-4a58-a1bc-ef88ccf31ce3",
   "metadata": {},
   "outputs": [
    {
     "data": {
      "text/plain": [
       "329048"
      ]
     },
     "execution_count": 355,
     "metadata": {},
     "output_type": "execute_result"
    }
   ],
   "source": [
    "get_funda_avg_asking_price(\"Gouda\")"
   ]
  },
  {
   "cell_type": "code",
   "execution_count": 201,
   "id": "bddac0d5-07b6-4f92-8e8e-5d243a791bea",
   "metadata": {},
   "outputs": [],
   "source": [
    "# stri = \"\"\"\n",
    "# SNLB=fundawonenFrontend011; .ASPXANONYMOUS=ZiMW5gnUohGd3Znr8biDLNg11ECrHP5X3l8M-cXYNwU4wjs89pSVNcs5ezf_VxJIUSlr3_4hm8WdRKUWfEAUyRtR67FtHVKOJ-4kuvr5IiQQZjFjJRFrXPBUGeKqgGYsKpvAw2Ua-jS_YD1Ze0MSiAx3ygY1; didomi_token=eyJ1c2VyX2lkIjoiMThjOTM2NTUtNWVlYS02NGJiLWE4OWItMWM4ZWZhYWQwOGE5IiwiY3JlYXRlZCI6IjIwMjMtMTItMjJUMjE6MTk6MDEuMTMxWiIsInVwZGF0ZWQiOiIyMDIzLTEyLTIyVDIxOjE5OjAyLjMwOVoiLCJ2ZW5kb3JzIjp7ImVuYWJsZWQiOlsiZ29vZ2xlIiwiYzpmdW5kYWZ1bmMtQUhoRDJZcTMiLCJjOnNlZ21lbnQtR1FwV1BRaEsiLCJjOmZ1bmRhcGFydC1pQk5nWFd3WCIsImM6ZGF0YWRvZy1yZHRZN0FtRSIsImM6Z29vZ2xlYW5hLWphZ242Tm5nIiwiYzpvcHRpbWl6ZWx5LTgyMkE2cU5nIiwiYzpjbG91ZGZsYXJlLThmbmEzRUhBIiwiYzpnb29nbGV0YWctZUVZUGozMloiLCJjOmhvdGphci1UODJqdENVcSIsImM6Z2V0ZmVlZGJhLUJ0alhGTDJaIiwiYzppbmctanFYNmQzdFkiXX0sInB1cnBvc2VzIjp7ImVuYWJsZWQiOlsicGVyc29uYWxpc2F0aW9uLWdyb3VwIiwiYWR2ZXJ0aXNlbWVudC1ncm91cCJdfSwidmVyc2lvbiI6MiwiYWMiOiJFdC1BSUJFa0VEQUtNQWx2Z0FBQS5BQUFBIn0=; euconsent-v2=CP3MC8AP3MC8AAHABBENAfEgAP7gAAAAABpYGgNF7C5dTGNCQDp0YNskOYQfsNCIJmQhABaJAmgBwAKAMIQCkmESNASgBAACCQIAKAYBAAFkGAAAQQAAQAAAAAGEQAAABAIIICBAgBIBAAAIAAQAAIAAQAAAgEACAEIAkQAAAIIAQEAABAAAAMQAAwABEGolABgACINRSADAAEQah0AGAAIg1BIAMAARBqLQAYAAiDUA.f9wAAAAAAAAA; didomi_consent=functional-group,personalisation-group,advertisement-group,analytical-group,cookies,select_basic_ads,create_ads_profile,select_personalized_ads,improve_products,measure_ad_performance,create_content_profile,select_personalized_content,market_research,use_limited_data_to_select_content,; userConsentPersonalization=true; optimizelyEndUserId=oeu1703279942958r0.20478339281843927; i18n=nl; __RequestVerificationToken=F3ll7wwIRHj2KSbLWOLYoWbA3ECu46-2Vw7Kr0RbTt7UIHmVRHsuZ4y1r7ex-7sND9iK5uGDzLAK-gvv7HJVfO4L5dI1; INLB=fundawonenFrontends; wib=koop=provincie-noord-holland; bm_mi=7E8C1592801ADCE0A620177A39BA8DA4~YAAQjFZhaN0NVBiNAQAA3+ZHIRb6IGx+dwR5X6N9qjX/sfKsiH5TwWGjbR5V2+8HO5HwQxCS4dT+X2aSToelI8fQdcOWNGAiBtv+WF339AZv4/4c+piwOWI55A3mt9vvRqn/cF5M2WLXs9eXqauGOx8IufDU3AraDtlsdqqWFZAnOwoeo4ktHwHQ4wnqzUC8SWWr29zB8p0I8NGCznyQoKrFJqYhoHVNtTb9LT2TgPv0oep8bJurg/kohsx3yobgqwRfNXr3l7A6GjToDwJk/MJ/GxHfrkh/EX+26V+SQFy26Jd1IwOSjF9Qq4uXs9Q0EIefsSnN~1; bm_sv=C97DFE55288DDC80CEF84A5BDDAEB0E7~YAAQjFZhaIkSVBiNAQAAnCFIIRYpfY0juie3D76X7p+PWHb2SQO2iE8ZruWvLpOwHKddn3bVevuR9jei+i1RJLKPlSN2Tr6HvD3VpSo57ggJnni0ltT7p2yH37F9+kq8uEX99XP2n9yM4PlpQOf084jbc4h9jjrgZAo6NTE8kqhADsZAUBfLcicO09tQhN8eIOfeDyJLOXwPblaCwNEzh6oBziJVsiaqEiGWTYZ0274abQRIDyy21LRw+Iau1DQ=~1; ak_bmsc=1C32754852738546B0FF5F8FA28A8845~000000000000000000000000000000~YAAQjFZhaAAYVBiNAQAASUlIIRYef7baQCxNi4Fz/4UYGgZUzUAGpQNpESxu/gdF6ls3fJ3v2ARTW8OY/hwgZjfC8dwwL1NG5TY51Uu7Qz27gjuXpyMCmsgjKs4V0KXC5EjcIBx7/tS1C9KI0UUu7SsWGQF+wvKVYhcfyjyDl6nLAewkCApi9ARkXHfHz3iUMiOW3hTt7Kni7wAEgBZG/KiCQip51zUCzLL+a+AT9q6cb0gw6ZyMartRIMllzbu+21JndhtpBDla5GXMI8sWNLtVROr9eQC25q+FsnZXyF86gDEKWE4J4hPFkMPhtC5WfmRm1pZL511STSgZurmQYUlKlEsBTbErdflcyQVjGU6ZLksWNJmTfbQ2tceKPjsABW2RAMqxwn1O5sk2GdxjUWvWLg0pI/6XBdD1Oh+eR+jSM2+tqSE=; html-classes=js supports-placeholder; funda.shell.oidc.id_token=eyJhbGciOiJSUzI1NiIsImtpZCI6IjU0RTFEOTVBODQ3QkY0M0UwQTZDMzgzMjY2QzI4RDQ3IiwidHlwIjoiSldUIn0.eyJpc3MiOiJodHRwczovL2xvZ2luLmZ1bmRhLm5sIiwibmJmIjoxNzA1NjYxMzk4LCJpYXQiOjE3MDU2NjEzOTgsImV4cCI6MTcwNTY2NDk5OCwiYXVkIjoiZnVuZGEtYXBwLWpzLWNsaWVudCIsImFtciI6WyJwd2QiXSwiYXRfaGFzaCI6IksyV1JZZmV4NGZUUnJaM19LWnpBR0EiLCJzaWQiOiJFNTkyQjVFMzQxNDczNDYzMEVDOUY4MTJFOTVFMTY1RSIsInN1YiI6Ijk0NDc1OTgwLTNjMzUtNDg0NC05NjYxLTU2ZWRiMTEzYjFlNSIsImF1dGhfdGltZSI6MTcwNTY2MTI2NSwiaWRwIjoibG9jYWwiLCJuYW1lIjoiYmlyYXg5OTUxN0B3dXphay5jb20iLCJmdW5kYV9wZXJzaXN0ZW50X2xvZ2luX3JlcXVlc3RlZCI6ImZhbHNlIiwiaHR0cDovL3NjaGVtYXMueG1sc29hcC5vcmcvd3MvMjAwNS8wNS9pZGVudGl0eS9jbGFpbXMvbmFtZSI6ImJpcmF4OTk1MTdAd3V6YWsuY29tIiwiaHR0cDovL3NjaGVtYXMueG1sc29hcC5vcmcvd3MvMjAwNS8wNS9pZGVudGl0eS9jbGFpbXMvbmFtZWlkZW50aWZpZXIiOiI5NDQ3NTk4MC0zYzM1LTQ4NDQtOTY2MS01NmVkYjExM2IxZTUiLCJodHRwOi8vc2NoZW1hcy54bWxzb2FwLm9yZy93cy8yMDA1LzA1L2lkZW50aXR5L2NsYWltcy9lbWFpbGFkZHJlc3MiOiJiaXJheDk5NTE3QHd1emFrLmNvbSIsImZ1bmRhX3VzZXJfdHlwZSI6IkN1c3RvbWVyIiwiZnVuZGFfcmVnaXN0cmF0aW9uX2RhdGUiOiIyMDI0LTAxLTE5VDExOjQ2OjU1IiwiZnVuZGFfbGFzdF9sb2dpbl9kYXRlIjoiMjAyNC0wMS0xOVQxMTo0Nzo0NSIsImZ1bmRhX2hhc19sb2NhbF9hY2NvdW50IjoidHJ1ZSIsImZ1bmRhX2hhc19leHRlcm5hbF9hY2NvdW50IjoiZmFsc2UifQ.TXCGTssN18IWOgXy1MB5DWwN2Wg9lZWMko8mljYbucC3kqUSsP2VRpKJeVDJfkdXcdk_qeE1atD06VfxpoHY5o5aMM5WQoJEy0grXUv_9mboufBu9g9vob6Q3wXDIM0RyeHGOiqedVKM3Ab4HYHLnIJM23Xe3Fkn8808_dIXEtiT955AySBaA15YAtrtoLa1xR03GzCAugntCXXyCipFxi0ZKD_Uws8zlXMlHH3oyZzMnwnvOTAUUBR9qIE7AoSkxyPHaRQm_9mOKQTZYx7nIrCfFuj8S6elWFjmUVWjE39tjO7kctb7LBmtzXXfPzPQ_I-Bqdmxu1wWP2nR8HVdfA; funda.shell.oidc.id_token.expiration=1708253398803; funda.shell.oidc.refresh_token=6E9F6FBBE3177A64EC776F8C525CD0DA9A406E65B5B7551A4F2C4DCB4ACDBB1F-1; funda.shell.oidc.refresh_token.expiration=1713437398803; last_search=koop=Weesp%20%20%2B%200%20filter|L3pvZWtlbi9rb29wP3NlbGVjdGVkX2FyZWE9JTVCJTIyd2Vlc3AlMjIlNUQ=; userLoggedOut=true; sr=0%7cfalse; profileheadermenu=; g_state={\"i_t\":1705751973024,\"i_l\":0}; auth.sync.id=; OpenIdConnect.nonce.n9CLBzikDyV3Q6W2Y5Ps6DJX5n1CZ7rLwxtweMAjALE%3D=V3Q4ZjNvMk0yQkhuYW4yMGVGcEV5aFRDc3Y4WnVlU1dJelA0dDNQQVp0MnZnN1VkYmxmZWxGYUxVNnBidlV1N19BQ3hUazRoSDRKa0dUbmQ3WXVXemdDNzBSbEJ1U1lDNEZOMzFRTkhRczA4MHFPN3pKb2hPOTVUbEVhSTRsdEtaVEo2UkFEWVd1NGo4TjJXVzV6UjV2YXpCY3BMTU9EOUF3REFBemo3c3ZkT0ZaaDE0UFUwRFFEMklnUkFlakFhRUtNekVnR2dPeXlNelFzN1o2LTNDVGZPcmVn\n",
    "# \"\"\""
   ]
  },
  {
   "cell_type": "code",
   "execution_count": 202,
   "id": "ba90ae7e-bd0d-4d66-9856-91ab526c7600",
   "metadata": {},
   "outputs": [],
   "source": [
    "# for item in stri.replace(\"\\n\", \"\").split(\";\"):\n",
    "#     name = item.split(\"=\")[0].strip()\n",
    "#     value = \"\".join(item.split(\"=\")[1:])\n",
    "#     print(f\"'{name}': '{value}',\")"
   ]
  },
  {
   "cell_type": "code",
   "execution_count": 203,
   "id": "efaae86c-8a55-4383-816e-1dc3cebb5688",
   "metadata": {},
   "outputs": [],
   "source": [
    "# s = requests.Session()"
   ]
  },
  {
   "cell_type": "code",
   "execution_count": 204,
   "id": "29c53625-76bb-4b2c-91ba-82637d5b6586",
   "metadata": {},
   "outputs": [],
   "source": [
    "# body = {\n",
    "#     \"code\": \"ED34ADE87131B8AB38C9B4B4647A371CFD07D3145F2F93EC7D3BAD4E636DC2BA-1\",\n",
    "#     \"id_token\": 'eyJhbGciOiJSUzI1NiIsImtpZCI6IjU0RTFEOTVBODQ3QkY0M0UwQTZDMzgzMjY2QzI4RDQ3IiwidHlwIjoiSldUIn0.eyJpc3MiOiJodHRwczovL2xvZ2luLmZ1bmRhLm5sIiwibmJmIjoxNzA1NjY1NTk5LCJpYXQiOjE3MDU2NjU1OTksImV4cCI6MTcwNTY2NTg5OSwiYXVkIjoiZnVuZGEud2Vic2l0ZSIsImFtciI6WyJwd2QiXSwibm9uY2UiOiI2Mzg0MTI2MjM3NTYyNTI1MjAuWlRnNU1tSTFZemt0TmpOa01TMDBZVGd4TFdJME5ERXRaakUxTWpRek5UTXpaalEyWVRVMk9EVTFZVGN0WldRMU1pMDBZakZtTFdGbU5qZ3ROR1kwT1RReFlXRmhZek5sIiwiY19oYXNoIjoiVjJwVWVfUERvRWtrSW16LWZfVTVxZyIsInNpZCI6IkI2ODcxMjREMjUxRDU3ODYxQkIzRjBGOTNDQTdBMjlDIiwic3ViIjoiOTQ0NzU5ODAtM2MzNS00ODQ0LTk2NjEtNTZlZGIxMTNiMWU1IiwiYXV0aF90aW1lIjoxNzA1NjY1NTk4LCJpZHAiOiJsb2NhbCIsIm5hbWUiOiJiaXJheDk5NTE3QHd1emFrLmNvbSIsImZ1bmRhX3BlcnNpc3RlbnRfbG9naW5fcmVxdWVzdGVkIjoidHJ1ZSIsImh0dHA6Ly9zY2hlbWFzLnhtbHNvYXAub3JnL3dzLzIwMDUvMDUvaWRlbnRpdHkvY2xhaW1zL25hbWUiOiJiaXJheDk5NTE3QHd1emFrLmNvbSIsImh0dHA6Ly9zY2hlbWFzLnhtbHNvYXAub3JnL3dzLzIwMDUvMDUvaWRlbnRpdHkvY2xhaW1zL25hbWVpZGVudGlmaWVyIjoiOTQ0NzU5ODAtM2MzNS00ODQ0LTk2NjEtNTZlZGIxMTNiMWU1IiwiaHR0cDovL3NjaGVtYXMueG1sc29hcC5vcmcvd3MvMjAwNS8wNS9pZGVudGl0eS9jbGFpbXMvZW1haWxhZGRyZXNzIjoiYmlyYXg5OTUxN0B3dXphay5jb20iLCJmdW5kYV91c2VyX3R5cGUiOiJDdXN0b21lciIsImZ1bmRhX3JlZ2lzdHJhdGlvbl9kYXRlIjoiMjAyNC0wMS0xOVQxMTo0Njo1NSIsImZ1bmRhX2xhc3RfbG9naW5fZGF0ZSI6IjIwMjQtMDEtMTlUMTI6NTk6NTgiLCJmdW5kYV9oYXNfbG9jYWxfYWNjb3VudCI6InRydWUiLCJmdW5kYV9oYXNfZXh0ZXJuYWxfYWNjb3VudCI6ImZhbHNlIn0.M61VTXoKL8h8ZpVwcOb2k4_v_6fwXyK5PyOwnsDClY1Q-V5c8oIPxnzGJ5rbTVn_5h6fT1qCZn3W5DHZWUgDWCRP68re-adt0MmgY-aMEIaH0eXrb70RdenWK4BibxuBdcQY2g6oIY2a9zwDPx_U_PrCw1xNWqD6eKQHndMFUatc8g5pu--D_TraQ2JdTkRyKAaiCmeZWOyKkyUY6YLAvmBeLznWZpj_0GHeppYvVLcBMN2LC57ZOjcC7yUAtJ4tKWA3bf27FB3yfVdK_68pTk0V8y8gdJXBM6roC-vVcpMElX9TqC-yRyI_DL2zNK9O-DWf-zXJ3eOn5FvBRe7IoA',\n",
    "#     \"scope\": \"openid profile funda_basic funda_login_metadata\",\n",
    "#     \"state\": 'OpenIdConnect.AuthenticationProperties=mR2G3m3AVmfizw72-Ks8xRdFU7-NMQ0JGG6Srp3kdnaPTWHkDS4v5eADRmdhUR-FZtMz8pRsJrln8aJ650Ks2jIkIw1mPwmxbItV6Y4synonW8GMD3YzI0TElj4ZMEDD86U8xrEMTrLTNl-h-VbXPuBayeNBTS65tJzwvWZVsC_MOjgNo-AGMbnQJke_QXvYuYlj-dSQ-ykwnJ5p9OzMiBQ7AZMcwXvJPpzQlVDkQwGqGeZSyhcpYUFhyl0axIyzHGGnszQ8voGpx1IfPalmdpPMM6g',\n",
    "#     \"session_state\": 'XsAq0FnpNISI8zgQFtHfk6dxEBDCw9qeNn0nrRra-ic.E68B72B849334D5F4BFC5AD660F45A09'       \n",
    "# }\n",
    "\n",
    "# cookies = {\n",
    "#     'SNLB': 'fundawonenFrontend011',\n",
    "#     '.ASPXANONYMOUS': 'ZiMW5gnUohGd3Znr8biDLNg11ECrHP5X3l8M-cXYNwU4wjs89pSVNcs5ezf_VxJIUSlr3_4hm8WdRKUWfEAUyRtR67FtHVKOJ-4kuvr5IiQQZjFjJRFrXPBUGeKqgGYsKpvAw2Ua-jS_YD1Ze0MSiAx3ygY1',\n",
    "#     'didomi_token': 'eyJ1c2VyX2lkIjoiMThjOTM2NTUtNWVlYS02NGJiLWE4OWItMWM4ZWZhYWQwOGE5IiwiY3JlYXRlZCI6IjIwMjMtMTItMjJUMjE6MTk6MDEuMTMxWiIsInVwZGF0ZWQiOiIyMDIzLTEyLTIyVDIxOjE5OjAyLjMwOVoiLCJ2ZW5kb3JzIjp7ImVuYWJsZWQiOlsiZ29vZ2xlIiwiYzpmdW5kYWZ1bmMtQUhoRDJZcTMiLCJjOnNlZ21lbnQtR1FwV1BRaEsiLCJjOmZ1bmRhcGFydC1pQk5nWFd3WCIsImM6ZGF0YWRvZy1yZHRZN0FtRSIsImM6Z29vZ2xlYW5hLWphZ242Tm5nIiwiYzpvcHRpbWl6ZWx5LTgyMkE2cU5nIiwiYzpjbG91ZGZsYXJlLThmbmEzRUhBIiwiYzpnb29nbGV0YWctZUVZUGozMloiLCJjOmhvdGphci1UODJqdENVcSIsImM6Z2V0ZmVlZGJhLUJ0alhGTDJaIiwiYzppbmctanFYNmQzdFkiXX0sInB1cnBvc2VzIjp7ImVuYWJsZWQiOlsicGVyc29uYWxpc2F0aW9uLWdyb3VwIiwiYWR2ZXJ0aXNlbWVudC1ncm91cCJdfSwidmVyc2lvbiI6MiwiYWMiOiJFdC1BSUJFa0VEQUtNQWx2Z0FBQS5BQUFBIn0',\n",
    "#     'euconsent-v2': 'CP3MC8AP3MC8AAHABBENAfEgAP7gAAAAABpYGgNF7C5dTGNCQDp0YNskOYQfsNCIJmQhABaJAmgBwAKAMIQCkmESNASgBAACCQIAKAYBAAFkGAAAQQAAQAAAAAGEQAAABAIIICBAgBIBAAAIAAQAAIAAQAAAgEACAEIAkQAAAIIAQEAABAAAAMQAAwABEGolABgACINRSADAAEQah0AGAAIg1BIAMAARBqLQAYAAiDUA.f9wAAAAAAAAA',\n",
    "#     'didomi_consent': 'functional-group,personalisation-group,advertisement-group,analytical-group,cookies,select_basic_ads,create_ads_profile,select_personalized_ads,improve_products,measure_ad_performance,create_content_profile,select_personalized_content,market_research,use_limited_data_to_select_content,',\n",
    "#     'userConsentPersonalization': 'true',\n",
    "#     'optimizelyEndUserId': 'oeu1703279942958r0.20478339281843927',\n",
    "#     'i18n': 'nl',\n",
    "#     '__RequestVerificationToken': 'F3ll7wwIRHj2KSbLWOLYoWbA3ECu46-2Vw7Kr0RbTt7UIHmVRHsuZ4y1r7ex-7sND9iK5uGDzLAK-gvv7HJVfO4L5dI1',\n",
    "#     'INLB': 'fundawonenFrontends',\n",
    "#     'wib': 'koopprovincie-noord-holland',\n",
    "#     'bm_mi': '7E8C1592801ADCE0A620177A39BA8DA4~YAAQjFZhaN0NVBiNAQAA3+ZHIRb6IGx+dwR5X6N9qjX/sfKsiH5TwWGjbR5V2+8HO5HwQxCS4dT+X2aSToelI8fQdcOWNGAiBtv+WF339AZv4/4c+piwOWI55A3mt9vvRqn/cF5M2WLXs9eXqauGOx8IufDU3AraDtlsdqqWFZAnOwoeo4ktHwHQ4wnqzUC8SWWr29zB8p0I8NGCznyQoKrFJqYhoHVNtTb9LT2TgPv0oep8bJurg/kohsx3yobgqwRfNXr3l7A6GjToDwJk/MJ/GxHfrkh/EX+26V+SQFy26Jd1IwOSjF9Qq4uXs9Q0EIefsSnN~1',\n",
    "#     'bm_sv': 'C97DFE55288DDC80CEF84A5BDDAEB0E7~YAAQjFZhaIkSVBiNAQAAnCFIIRYpfY0juie3D76X7p+PWHb2SQO2iE8ZruWvLpOwHKddn3bVevuR9jei+i1RJLKPlSN2Tr6HvD3VpSo57ggJnni0ltT7p2yH37F9+kq8uEX99XP2n9yM4PlpQOf084jbc4h9jjrgZAo6NTE8kqhADsZAUBfLcicO09tQhN8eIOfeDyJLOXwPblaCwNEzh6oBziJVsiaqEiGWTYZ0274abQRIDyy21LRw+Iau1DQ~1',\n",
    "#     'ak_bmsc': '1C32754852738546B0FF5F8FA28A8845~000000000000000000000000000000~YAAQjFZhaAAYVBiNAQAASUlIIRYef7baQCxNi4Fz/4UYGgZUzUAGpQNpESxu/gdF6ls3fJ3v2ARTW8OY/hwgZjfC8dwwL1NG5TY51Uu7Qz27gjuXpyMCmsgjKs4V0KXC5EjcIBx7/tS1C9KI0UUu7SsWGQF+wvKVYhcfyjyDl6nLAewkCApi9ARkXHfHz3iUMiOW3hTt7Kni7wAEgBZG/KiCQip51zUCzLL+a+AT9q6cb0gw6ZyMartRIMllzbu+21JndhtpBDla5GXMI8sWNLtVROr9eQC25q+FsnZXyF86gDEKWE4J4hPFkMPhtC5WfmRm1pZL511STSgZurmQYUlKlEsBTbErdflcyQVjGU6ZLksWNJmTfbQ2tceKPjsABW2RAMqxwn1O5sk2GdxjUWvWLg0pI/6XBdD1Oh+eR+jSM2+tqSE',\n",
    "#     'html-classes': 'js supports-placeholder',\n",
    "#     'funda.shell.oidc.id_token': 'eyJhbGciOiJSUzI1NiIsImtpZCI6IjU0RTFEOTVBODQ3QkY0M0UwQTZDMzgzMjY2QzI4RDQ3IiwidHlwIjoiSldUIn0.eyJpc3MiOiJodHRwczovL2xvZ2luLmZ1bmRhLm5sIiwibmJmIjoxNzA1NjYxMzk4LCJpYXQiOjE3MDU2NjEzOTgsImV4cCI6MTcwNTY2NDk5OCwiYXVkIjoiZnVuZGEtYXBwLWpzLWNsaWVudCIsImFtciI6WyJwd2QiXSwiYXRfaGFzaCI6IksyV1JZZmV4NGZUUnJaM19LWnpBR0EiLCJzaWQiOiJFNTkyQjVFMzQxNDczNDYzMEVDOUY4MTJFOTVFMTY1RSIsInN1YiI6Ijk0NDc1OTgwLTNjMzUtNDg0NC05NjYxLTU2ZWRiMTEzYjFlNSIsImF1dGhfdGltZSI6MTcwNTY2MTI2NSwiaWRwIjoibG9jYWwiLCJuYW1lIjoiYmlyYXg5OTUxN0B3dXphay5jb20iLCJmdW5kYV9wZXJzaXN0ZW50X2xvZ2luX3JlcXVlc3RlZCI6ImZhbHNlIiwiaHR0cDovL3NjaGVtYXMueG1sc29hcC5vcmcvd3MvMjAwNS8wNS9pZGVudGl0eS9jbGFpbXMvbmFtZSI6ImJpcmF4OTk1MTdAd3V6YWsuY29tIiwiaHR0cDovL3NjaGVtYXMueG1sc29hcC5vcmcvd3MvMjAwNS8wNS9pZGVudGl0eS9jbGFpbXMvbmFtZWlkZW50aWZpZXIiOiI5NDQ3NTk4MC0zYzM1LTQ4NDQtOTY2MS01NmVkYjExM2IxZTUiLCJodHRwOi8vc2NoZW1hcy54bWxzb2FwLm9yZy93cy8yMDA1LzA1L2lkZW50aXR5L2NsYWltcy9lbWFpbGFkZHJlc3MiOiJiaXJheDk5NTE3QHd1emFrLmNvbSIsImZ1bmRhX3VzZXJfdHlwZSI6IkN1c3RvbWVyIiwiZnVuZGFfcmVnaXN0cmF0aW9uX2RhdGUiOiIyMDI0LTAxLTE5VDExOjQ2OjU1IiwiZnVuZGFfbGFzdF9sb2dpbl9kYXRlIjoiMjAyNC0wMS0xOVQxMTo0Nzo0NSIsImZ1bmRhX2hhc19sb2NhbF9hY2NvdW50IjoidHJ1ZSIsImZ1bmRhX2hhc19leHRlcm5hbF9hY2NvdW50IjoiZmFsc2UifQ.TXCGTssN18IWOgXy1MB5DWwN2Wg9lZWMko8mljYbucC3kqUSsP2VRpKJeVDJfkdXcdk_qeE1atD06VfxpoHY5o5aMM5WQoJEy0grXUv_9mboufBu9g9vob6Q3wXDIM0RyeHGOiqedVKM3Ab4HYHLnIJM23Xe3Fkn8808_dIXEtiT955AySBaA15YAtrtoLa1xR03GzCAugntCXXyCipFxi0ZKD_Uws8zlXMlHH3oyZzMnwnvOTAUUBR9qIE7AoSkxyPHaRQm_9mOKQTZYx7nIrCfFuj8S6elWFjmUVWjE39tjO7kctb7LBmtzXXfPzPQ_I-Bqdmxu1wWP2nR8HVdfA',\n",
    "#     'funda.shell.oidc.id_token.expiration': '1708253398803',\n",
    "#     'funda.shell.oidc.refresh_token': '6E9F6FBBE3177A64EC776F8C525CD0DA9A406E65B5B7551A4F2C4DCB4ACDBB1F-1',\n",
    "#     'funda.shell.oidc.refresh_token.expiration': '1713437398803',\n",
    "#     'last_search': 'koopWeesp%20%20%2B%200%20filter|L3pvZWtlbi9rb29wP3NlbGVjdGVkX2FyZWE9JTVCJTIyd2Vlc3AlMjIlNUQ',\n",
    "#     'userLoggedOut': 'true',\n",
    "#     'sr': '0%7cfalse',\n",
    "#     'profileheadermenu': '',\n",
    "#     'g_state': '{\"i_t\":1705751973024,\"i_l\":0}',\n",
    "#     'auth.sync.id': '',\n",
    "#     'OpenIdConnect.nonce.n9CLBzikDyV3Q6W2Y5Ps6DJX5n1CZ7rLwxtweMAjALE%3D': 'V3Q4ZjNvMk0yQkhuYW4yMGVGcEV5aFRDc3Y4WnVlU1dJelA0dDNQQVp0MnZnN1VkYmxmZWxGYUxVNnBidlV1N19BQ3hUazRoSDRKa0dUbmQ3WXVXemdDNzBSbEJ1U1lDNEZOMzFRTkhRczA4MHFPN3pKb2hPOTVUbEVhSTRsdEtaVEo2UkFEWVd1NGo4TjJXVzV6UjV2YXpCY3BMTU9EOUF3REFBemo3c3ZkT0ZaaDE0UFUwRFFEMklnUkFlakFhRUtNekVnR2dPeXlNelFzN1o2LTNDVGZPcmVn'\n",
    "#     }\n",
    "\n",
    "\n",
    "\n",
    "# res = s.post(url=\"https://www.funda.nl/auth/signin-oidc/\", data=body, headers=headers, cookies=cookies)"
   ]
  },
  {
   "cell_type": "code",
   "execution_count": null,
   "id": "84ca545c-a248-4f6a-a07b-176c859b1438",
   "metadata": {},
   "outputs": [],
   "source": []
  }
 ],
 "metadata": {
  "kernelspec": {
   "display_name": "Python 3 (ipykernel)",
   "language": "python",
   "name": "python3"
  },
  "language_info": {
   "codemirror_mode": {
    "name": "ipython",
    "version": 3
   },
   "file_extension": ".py",
   "mimetype": "text/x-python",
   "name": "python",
   "nbconvert_exporter": "python",
   "pygments_lexer": "ipython3",
   "version": "3.11.4"
  }
 },
 "nbformat": 4,
 "nbformat_minor": 5
}
