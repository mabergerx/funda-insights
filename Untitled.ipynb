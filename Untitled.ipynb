{
 "cells": [
  {
   "cell_type": "code",
   "execution_count": 415,
   "id": "e522b0a8-affe-449b-9218-e7118a40ceff",
   "metadata": {},
   "outputs": [],
   "source": [
    "import requests\n",
    "from bs4 import BeautifulSoup\n",
    "from datetime import datetime"
   ]
  },
  {
   "cell_type": "code",
   "execution_count": 381,
   "id": "cf0b8914-585d-4dd1-bee4-ce7d9120fae5",
   "metadata": {},
   "outputs": [],
   "source": [
    "url = 'https://www.funda.nl/koop/weesp/huis-43453962-klein-dijkland-24/'\n",
    "\n",
    "headers = {\n",
    "    'User-Agent': 'Mozilla/5.0 (Macintosh; Intel Mac OS X 10_15_7) AppleWebKit/537.36 (KHTML, like Gecko) Chrome/120.0.0.0 Safari/537.36',\n",
    "}\n",
    "\n"
   ]
  },
  {
   "cell_type": "code",
   "execution_count": 382,
   "id": "a3c47056-56ea-4064-b39d-d88b9d1a9bac",
   "metadata": {},
   "outputs": [],
   "source": [
    "response = requests.get(url, headers=headers)"
   ]
  },
  {
   "cell_type": "code",
   "execution_count": 383,
   "id": "2c4f7e75-cbaf-4016-8a3b-db4397449f38",
   "metadata": {},
   "outputs": [],
   "source": [
    "soup = BeautifulSoup(response.text, \"html\")"
   ]
  },
  {
   "cell_type": "code",
   "execution_count": 299,
   "id": "5adfc529-7df1-4cd7-a594-857a4025cf80",
   "metadata": {},
   "outputs": [],
   "source": [
    "object_statistics = soup.select(\".object-statistics\")\n",
    "object_features = soup.select(\".object-kenmerken\")"
   ]
  },
  {
   "cell_type": "code",
   "execution_count": 356,
   "id": "78ed5222-484e-4b84-b345-d2001fc0ea93",
   "metadata": {},
   "outputs": [
    {
     "data": {
      "text/plain": [
       "[<dd class=\"fd-flex--bp-m fd-flex-wrap fd-align-items-center\">\n",
       " <span class=\"fd-m-right-xs\">€ 229.000 kosten koper</span>\n",
       " <span class=\"textlink-banner\">\n",
       " </span>\n",
       " </dd>,\n",
       " <dd class=\"fd-flex--bp-m fd-flex-wrap fd-align-items-center\">\n",
       " <span class=\"\">Galerijflat (appartement)</span>\n",
       " </dd>,\n",
       " <dd>\n",
       " </dd>,\n",
       " <dd class=\"fd-flex--bp-m fd-flex-wrap fd-align-items-center\">\n",
       " <span class=\"\">79 m²</span>\n",
       " </dd>,\n",
       " <dd class=\"fd-flex--bp-m fd-flex-wrap fd-align-items-center\">\n",
       " <span class=\"\">4 kamers (2 slaapkamers)</span>\n",
       " </dd>,\n",
       " <dd>\n",
       " <span class=\"energielabel energielabel-e\" title=\"Energielabel E\">E\n",
       "         </span>\n",
       " <a href=\"/meer-weten/energielabel/\" title=\"energielabel\">Wat betekent dit?</a>\n",
       " </dd>,\n",
       " <dd class=\"fd-flex--bp-m fd-flex-wrap fd-align-items-center\">\n",
       " <span class=\"\">In centrum</span>\n",
       " </dd>,\n",
       " <dd class=\"fd-flex--bp-m fd-flex-wrap fd-align-items-center\">\n",
       " <span class=\"\">Box</span>\n",
       " </dd>,\n",
       " <dd class=\"fd-flex--bp-m fd-flex-wrap fd-align-items-center\">\n",
       " <span class=\"\">Betaald parkeren en parkeervergunningen</span>\n",
       " </dd>,\n",
       " <dd class=\"fd-flex--bp-m fd-flex-wrap fd-align-items-center\">\n",
       " <span class=\"\">Nee</span>\n",
       " </dd>]"
      ]
     },
     "execution_count": 356,
     "metadata": {},
     "output_type": "execute_result"
    }
   ],
   "source": [
    "soup.select(\"dd:nth-child(2)\")"
   ]
  },
  {
   "cell_type": "code",
   "execution_count": 409,
   "id": "60bd2c84-d866-4cd6-9996-57be618cf237",
   "metadata": {},
   "outputs": [],
   "source": [
    "def retrieve_feature_value(soup, feature_name):\n",
    "    try:\n",
    "        # Find the <dt> element with the text 'Ligging tuin'\n",
    "        dt_element = soup.find('dt', string=feature_name)\n",
    "        \n",
    "        # Find the next <dd> element which is the sibling of <dt>\n",
    "        dd_element = dt_element.find_next_sibling('dd')\n",
    "        \n",
    "        # Extract and print the text from the <dd> element\n",
    "        feature_text = dd_element.get_text(strip=True)\n",
    "        \n",
    "    except AttributeError as e:\n",
    "        feature_text = \"n.v.t.\"\n",
    "\n",
    "    return feature_text"
   ]
  },
  {
   "cell_type": "code",
   "execution_count": 377,
   "id": "78c3c954-2076-48ea-8e0a-30bdb7438f2d",
   "metadata": {},
   "outputs": [
    {
     "name": "stdout",
     "output_type": "stream",
     "text": [
      "Schuur/berging\n"
     ]
    },
    {
     "data": {
      "text/plain": [
       "{'Schuur/berging': 'Box'}"
      ]
     },
     "execution_count": 377,
     "metadata": {},
     "output_type": "execute_result"
    }
   ],
   "source": [
    "retrieve_feature_value(\"Schuur/berging\")"
   ]
  },
  {
   "cell_type": "code",
   "execution_count": 360,
   "id": "7d105d53-b787-4c90-8747-557206dd4f2f",
   "metadata": {},
   "outputs": [],
   "source": [
    "features_list_huis = ['Vraagprijs',\n",
    " 'Status',\n",
    " 'Aanvaarding',\n",
    " 'Soort woonhuis',\n",
    " 'Soort bouw',\n",
    " 'Bouwjaar',\n",
    " 'Specifiek',\n",
    " 'Soort dak',\n",
    " 'Wonen',\n",
    " 'Gebouwgebonden buitenruimte',\n",
    " 'Externe bergruimte',\n",
    " 'Perceel',\n",
    " 'Inhoud',\n",
    " 'Aantal kamers',\n",
    " 'Aantal badkamers',\n",
    " 'Badkamervoorzieningen',\n",
    " 'Aantal woonlagen',\n",
    " 'Voorzieningen',\n",
    " 'Energielabel',\n",
    " 'Isolatie',\n",
    " 'Verwarming',\n",
    " 'Warm water',\n",
    " 'Cv-ketel',\n",
    " 'Oppervlakte',\n",
    " 'Eigendomssituatie',\n",
    " 'Ligging',\n",
    " 'Tuin',\n",
    " 'Achtertuin',\n",
    " 'Ligging tuin',\n",
    " 'Schuur/berging',\n",
    " 'Voorzieningen',\n",
    " 'Soort parkeergelegenheid']"
   ]
  },
  {
   "cell_type": "code",
   "execution_count": 361,
   "id": "fd5130f5-6e2b-4b92-927b-81ccb5045698",
   "metadata": {},
   "outputs": [],
   "source": [
    "features_list_apt = ['Vraagprijs',\n",
    " 'Status',\n",
    " 'Aanvaarding',\n",
    " 'Bijdrage VvE',\n",
    " 'Soort appartement',\n",
    " 'Soort bouw',\n",
    " 'Bouwjaar',\n",
    " 'Soort dak',\n",
    " 'Wonen',\n",
    " 'Gebouwgebonden buitenruimte',\n",
    " 'Externe bergruimte',\n",
    " 'Inhoud',\n",
    " 'Aantal kamers',\n",
    " 'Aantal badkamers',\n",
    " 'Badkamervoorzieningen',\n",
    " 'Aantal woonlagen',\n",
    " 'Gelegen op',\n",
    " 'Voorzieningen',\n",
    " 'Energielabel',\n",
    " 'Isolatie',\n",
    " 'Verwarming',\n",
    " 'Warm water',\n",
    " 'Ligging',\n",
    " 'Balkon/dakterras',\n",
    " 'Schuur/berging',\n",
    " 'Voorzieningen',\n",
    " 'Soort parkeergelegenheid',\n",
    " 'Inschrijving KvK',\n",
    " 'Jaarlijkse vergadering',\n",
    " 'Periodieke bijdrage',\n",
    " 'Reservefonds aanwezig',\n",
    " 'Onderhoudsplan',\n",
    " 'Opstalverzekering']"
   ]
  },
  {
   "cell_type": "code",
   "execution_count": 362,
   "id": "5ffe0ffe-a4ba-4014-b081-8428b78199de",
   "metadata": {},
   "outputs": [],
   "source": [
    "feature_union = set(features_list_huis).union(set(features_list_apt))"
   ]
  },
  {
   "cell_type": "code",
   "execution_count": 363,
   "id": "0f1cd001-d160-4ee8-94c3-e56865d38777",
   "metadata": {},
   "outputs": [
    {
     "data": {
      "text/plain": [
       "{'Aantal badkamers',\n",
       " 'Aantal kamers',\n",
       " 'Aantal woonlagen',\n",
       " 'Aanvaarding',\n",
       " 'Achtertuin',\n",
       " 'Badkamervoorzieningen',\n",
       " 'Balkon/dakterras',\n",
       " 'Bijdrage VvE',\n",
       " 'Bouwjaar',\n",
       " 'Cv-ketel',\n",
       " 'Eigendomssituatie',\n",
       " 'Energielabel',\n",
       " 'Externe bergruimte',\n",
       " 'Gebouwgebonden buitenruimte',\n",
       " 'Gelegen op',\n",
       " 'Inhoud',\n",
       " 'Inschrijving KvK',\n",
       " 'Isolatie',\n",
       " 'Jaarlijkse vergadering',\n",
       " 'Ligging',\n",
       " 'Ligging tuin',\n",
       " 'Onderhoudsplan',\n",
       " 'Oppervlakte',\n",
       " 'Opstalverzekering',\n",
       " 'Perceel',\n",
       " 'Periodieke bijdrage',\n",
       " 'Reservefonds aanwezig',\n",
       " 'Schuur/berging',\n",
       " 'Soort appartement',\n",
       " 'Soort bouw',\n",
       " 'Soort dak',\n",
       " 'Soort parkeergelegenheid',\n",
       " 'Soort woonhuis',\n",
       " 'Specifiek',\n",
       " 'Status',\n",
       " 'Tuin',\n",
       " 'Verwarming',\n",
       " 'Voorzieningen',\n",
       " 'Vraagprijs',\n",
       " 'Warm water',\n",
       " 'Wonen'}"
      ]
     },
     "execution_count": 363,
     "metadata": {},
     "output_type": "execute_result"
    }
   ],
   "source": [
    "feature_union"
   ]
  },
  {
   "cell_type": "code",
   "execution_count": 385,
   "id": "fdd230d3-9384-4301-8ece-df97154649cd",
   "metadata": {},
   "outputs": [
    {
     "name": "stdout",
     "output_type": "stream",
     "text": [
      "{'Schuur/berging': 'Aangebouwde stenen berging'}\n",
      "{'Specifiek': 'Gedeeltelijk gestoffeerd'}\n",
      "{'Vraagprijs': '€ 525.000 kosten koper'}\n",
      "{'Perceel': '144 m²'}\n",
      "{'Aantal badkamers': '1 badkamer en 1 apart toilet'}\n",
      "{'Externe bergruimte': '6 m²'}\n",
      "{'Jaarlijkse vergadering': 'n.v.t.'}\n",
      "{'Status': 'Beschikbaar'}\n",
      "{'Balkon/dakterras': 'n.v.t.'}\n",
      "{'Soort woonhuis': 'Eengezinswoning, tussenwoning'}\n",
      "{'Soort bouw': 'Bestaande bouw'}\n",
      "{'Soort dak': 'Samengesteld dak bedekt met bitumineuze dakbedekking en pannen'}\n",
      "{'Isolatie': 'Dakisolatie, dubbel glas, grotendeels dubbelglas, HR-glas, muurisolatie en vloerisolatie'}\n",
      "{'Inhoud': '342 m³'}\n",
      "{'Badkamervoorzieningen': 'Douche en toilet'}\n",
      "{'Aanvaarding': 'In overleg'}\n",
      "{'Energielabel': 'AWat betekent dit?'}\n",
      "{'Verwarming': 'Cv-ketel'}\n",
      "{'Gebouwgebonden buitenruimte': '1 m²'}\n",
      "{'Oppervlakte': '144 m²'}\n",
      "{'Aantal kamers': '5 kamers (4 slaapkamers)'}\n",
      "{'Gelegen op': 'n.v.t.'}\n",
      "{'Inschrijving KvK': 'n.v.t.'}\n",
      "{'Onderhoudsplan': 'n.v.t.'}\n",
      "{'Wonen': '100 m²'}\n",
      "{'Bijdrage VvE': 'n.v.t.'}\n",
      "{'Soort appartement': 'n.v.t.'}\n",
      "{'Opstalverzekering': 'n.v.t.'}\n",
      "{'Periodieke bijdrage': 'n.v.t.'}\n",
      "{'Reservefonds aanwezig': 'n.v.t.'}\n",
      "{'Tuin': 'Achtertuin en voortuin'}\n",
      "{'Aantal woonlagen': '3 woonlagen'}\n",
      "{'Voorzieningen': 'Buitenzonwering, mechanische ventilatie, rookkanaal, schuifpui, TV kabel en zonnepanelen'}\n",
      "{'Warm water': 'Cv-ketel'}\n",
      "{'Achtertuin': '66 m² (12,87 meter diep en 5,12 meter breed)'}\n",
      "{'Eigendomssituatie': 'Volle eigendom'}\n",
      "{'Cv-ketel': 'Intergas HRE A 28/24 (gas gestookt combiketel uit 2023, eigendom)'}\n",
      "{'Soort parkeergelegenheid': 'Openbaar parkeren'}\n",
      "{'Ligging': 'In woonwijk en vrij uitzicht'}\n",
      "{'Bouwjaar': '1985'}\n",
      "{'Ligging tuin': 'Gelegen op het westen bereikbaar via achterom'}\n"
     ]
    }
   ],
   "source": [
    "for feat in feature_union:\n",
    "    print(retrieve_feature_value(soup, feat))"
   ]
  },
  {
   "cell_type": "code",
   "execution_count": 426,
   "id": "9071b9e5-4c11-4a7c-b91f-275fc71d3d09",
   "metadata": {},
   "outputs": [],
   "source": [
    "def get_house_specifics(house_url, features_set=feature_union):\n",
    "\n",
    "    response = requests.get(house_url, headers=headers)\n",
    "    soup = BeautifulSoup(response.text, \"html\")\n",
    "\n",
    "    house_features = {item: retrieve_feature_value(soup, item) for item in feature_union}\n",
    "\n",
    "    popularity_stats = get_house_popularity_stats(soup)\n",
    "\n",
    "    return dict(**house_features,**popularity_stats)\n",
    "\n",
    "        "
   ]
  },
  {
   "cell_type": "code",
   "execution_count": 429,
   "id": "dece3ae5-d4c2-4d6c-b2b0-d6f24c927720",
   "metadata": {},
   "outputs": [
    {
     "data": {
      "text/plain": [
       "{'Schuur/berging': 'Vrijstaande houten berging',\n",
       " 'Specifiek': 'Gedeeltelijk gestoffeerd',\n",
       " 'Vraagprijs': '€ 475.000 kosten koper',\n",
       " 'Perceel': '141 m²',\n",
       " 'Aantal badkamers': '1 badkamer en 1 apart toilet',\n",
       " 'Externe bergruimte': '8 m²',\n",
       " 'Jaarlijkse vergadering': 'n.v.t.',\n",
       " 'Status': 'Beschikbaar',\n",
       " 'Balkon/dakterras': 'Balkon aanwezig',\n",
       " 'Soort woonhuis': 'Eengezinswoning, tussenwoning',\n",
       " 'Soort bouw': 'Bestaande bouw',\n",
       " 'Soort dak': 'Zadeldak bedekt met pannen',\n",
       " 'Isolatie': 'Dakisolatie, gedeeltelijk dubbel glas, muurisolatie en vloerisolatie',\n",
       " 'Inhoud': '388 m³',\n",
       " 'Badkamervoorzieningen': 'Ligbad en toilet',\n",
       " 'Aanvaarding': 'In overleg',\n",
       " 'Energielabel': 'BWat betekent dit?',\n",
       " 'Verwarming': 'Cv-ketel',\n",
       " 'Gebouwgebonden buitenruimte': '3 m²',\n",
       " 'Oppervlakte': '141 m²',\n",
       " 'Aantal kamers': '5 kamers (4 slaapkamers)',\n",
       " 'Gelegen op': 'n.v.t.',\n",
       " 'Inschrijving KvK': 'n.v.t.',\n",
       " 'Onderhoudsplan': 'n.v.t.',\n",
       " 'Wonen': '108 m²',\n",
       " 'Bijdrage VvE': 'n.v.t.',\n",
       " 'Soort appartement': 'n.v.t.',\n",
       " 'Opstalverzekering': 'n.v.t.',\n",
       " 'Periodieke bijdrage': 'n.v.t.',\n",
       " 'Reservefonds aanwezig': 'n.v.t.',\n",
       " 'Tuin': 'Achtertuin en voortuin',\n",
       " 'Aantal woonlagen': '3 woonlagen',\n",
       " 'Voorzieningen': 'Buitenzonwering, glasvezelkabel, natuurlijke ventilatie, TV kabel en zonnepanelen',\n",
       " 'Warm water': 'Cv-ketel',\n",
       " 'Achtertuin': '63 m² (12,5 meter diep en 5 meter breed)',\n",
       " 'Eigendomssituatie': 'Volle eigendom',\n",
       " 'Cv-ketel': 'Atag (gas gestookt combiketel uit 2010, eigendom)',\n",
       " 'Soort parkeergelegenheid': 'Openbaar parkeren',\n",
       " 'Ligging': 'Aan rustige weg, aan water, in woonwijk en vrij uitzicht',\n",
       " 'Bouwjaar': '1937',\n",
       " 'Ligging tuin': 'Gelegen op het westen bereikbaar via achterom',\n",
       " 'views': 1337,\n",
       " 'saves': 40,\n",
       " 'published_at': '18-1-2024'}"
      ]
     },
     "execution_count": 429,
     "metadata": {},
     "output_type": "execute_result"
    }
   ],
   "source": [
    "get_house_specifics('https://www.funda.nl/koop/gouda/huis-43453846-burgvlietkade-20/')"
   ]
  },
  {
   "cell_type": "code",
   "execution_count": 321,
   "id": "c77d75f2-9f5c-443d-ab7a-2d57d9bf7680",
   "metadata": {},
   "outputs": [],
   "source": [
    "# all_features = [item.get_text() for item in soup.find_all('dt') if \"\\n\" not in item]\n",
    "\n",
    "# all_features"
   ]
  },
  {
   "cell_type": "code",
   "execution_count": 423,
   "id": "6ac45e53-0be9-4452-9007-e114f2e105a6",
   "metadata": {},
   "outputs": [],
   "source": [
    "def get_house_popularity_stats(soup):\n",
    "    object_statistics_html = soup.select(\".object-statistics\")[0]\n",
    "    house_global_id = object_statistics_html.find('app-object-insights-card')[\"global-id\"]\n",
    "    published_date = object_statistics_html.find('app-object-insights-card')[\"published-date\"]\n",
    "\n",
    "    try:\n",
    "        insights = requests.get(f\"https://marketinsights.funda.io/v1/objectinsights/{house_global_id}\").json()\n",
    "        views = insights[\"nrOfViews\"]\n",
    "        saves = insights[\"nrOfSaves\"]\n",
    "        return {\"views\": views, \"saves\": saves, \"published_at\": published_date}\n",
    "    except:\n",
    "        return {\"published_at\": datetime.today().strftime(\"%d-%m-%Y\"), 'views': \"n.v.t.\", 'saves': \"n.v.t.\"}\n",
    "    "
   ]
  },
  {
   "cell_type": "code",
   "execution_count": 424,
   "id": "e89cb971-73fd-4c40-98dd-47586580c74b",
   "metadata": {},
   "outputs": [
    {
     "data": {
      "text/plain": [
       "{'published_at': '19-01-2024', 'views': 'n.v.t.', 'saves': 'n.v.t.'}"
      ]
     },
     "execution_count": 424,
     "metadata": {},
     "output_type": "execute_result"
    }
   ],
   "source": [
    "get_house_popularity_stats(soup)"
   ]
  },
  {
   "cell_type": "code",
   "execution_count": 353,
   "id": "2a67baa4-1822-42ae-991d-2717a948b94e",
   "metadata": {},
   "outputs": [],
   "source": [
    "def get_funda_avg_asking_price(location):\n",
    "    return requests.get(f\"https://marketinsights.funda.io/v1/LocalInsights/preview/{location.lower()}\").json()['marketInsightsMetrics']['averageAskingPrice']['value']\n",
    "\n"
   ]
  },
  {
   "cell_type": "code",
   "execution_count": 355,
   "id": "20d087c7-1bd7-4a58-a1bc-ef88ccf31ce3",
   "metadata": {},
   "outputs": [
    {
     "data": {
      "text/plain": [
       "329048"
      ]
     },
     "execution_count": 355,
     "metadata": {},
     "output_type": "execute_result"
    }
   ],
   "source": [
    "get_funda_avg_asking_price(\"Gouda\")"
   ]
  },
  {
   "cell_type": "code",
   "execution_count": null,
   "id": "84ca545c-a248-4f6a-a07b-176c859b1438",
   "metadata": {},
   "outputs": [],
   "source": []
  },
  {
   "cell_type": "code",
   "execution_count": null,
   "id": "a63e77ab-f915-46cb-bd7e-6f026b13d6bb",
   "metadata": {},
   "outputs": [],
   "source": []
  },
  {
   "cell_type": "code",
   "execution_count": 1,
   "id": "6fa97679-3c07-4345-b2a5-1079c0d9bed3",
   "metadata": {},
   "outputs": [],
   "source": [
    "# utils"
   ]
  },
  {
   "cell_type": "code",
   "execution_count": 2,
   "id": "0f36f6be-071c-45f9-839e-b89944ec3648",
   "metadata": {},
   "outputs": [],
   "source": [
    "import pandas as pd"
   ]
  },
  {
   "cell_type": "code",
   "execution_count": 3,
   "id": "96f90d68-fc38-4305-b91a-780ccb1d0c79",
   "metadata": {},
   "outputs": [],
   "source": [
    "data = pd.read_csv(\"dashboard/data/funda_data_gouda_available_20240126.csv\")"
   ]
  },
  {
   "cell_type": "code",
   "execution_count": 5,
   "id": "e4a9d51d-3387-4134-a8fe-3cbb643936cc",
   "metadata": {},
   "outputs": [
    {
     "data": {
      "text/plain": [
       "0      18-1-2024\n",
       "1      15-1-2024\n",
       "2      19-1-2024\n",
       "3      12-1-2024\n",
       "4      23-1-2024\n",
       "5      13-1-2024\n",
       "6      21-1-2024\n",
       "7      11-1-2024\n",
       "8      18-1-2024\n",
       "9      22-1-2024\n",
       "10     12-1-2024\n",
       "11     11-1-2024\n",
       "12     18-1-2024\n",
       "13     12-1-2024\n",
       "14     22-1-2024\n",
       "15     18-1-2024\n",
       "16     18-1-2024\n",
       "17     18-1-2024\n",
       "18    26-01-2024\n",
       "19     19-1-2024\n",
       "20     16-1-2024\n",
       "21    26-01-2024\n",
       "22     16-1-2024\n",
       "23    26-01-2024\n",
       "24     23-1-2024\n",
       "25     19-1-2024\n",
       "26     11-1-2024\n",
       "27     22-1-2024\n",
       "28     19-1-2024\n",
       "29     13-1-2024\n",
       "Name: published_at, dtype: object"
      ]
     },
     "execution_count": 5,
     "metadata": {},
     "output_type": "execute_result"
    }
   ],
   "source": [
    "data.published_at"
   ]
  },
  {
   "cell_type": "code",
   "execution_count": null,
   "id": "21c6717e-58f6-45c1-9792-26f1d9d8987a",
   "metadata": {},
   "outputs": [],
   "source": []
  }
 ],
 "metadata": {
  "kernelspec": {
   "display_name": "Python 3 (ipykernel)",
   "language": "python",
   "name": "python3"
  },
  "language_info": {
   "codemirror_mode": {
    "name": "ipython",
    "version": 3
   },
   "file_extension": ".py",
   "mimetype": "text/x-python",
   "name": "python",
   "nbconvert_exporter": "python",
   "pygments_lexer": "ipython3",
   "version": "3.11.4"
  }
 },
 "nbformat": 4,
 "nbformat_minor": 5
}
